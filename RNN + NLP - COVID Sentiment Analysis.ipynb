{
 "cells": [
  {
   "cell_type": "markdown",
   "metadata": {},
   "source": [
    "# RECURRENT NEURAL NETWORK for sentiment analysis on tweets regarding COVID using TensorFlow, NLTK, and GloVe for semantics.\n",
    "\n",
    "_Data is from www.kaggle.com/datasets/datatattle/covid-19-nlp-text-classification_\n",
    "\n",
    "__About Dataset:__<br>\n",
    "Location: City, country, state, and/or country the tweet originated from.<br>\n",
    "Tweet at: Date the tweet was published.<br>\n",
    "Original Tweet: The tweet.<br>\n",
    "Label: Sentiment that the tweet expresses.<br>\n",
    "__Problem Statement:__<br>\n",
    "Given data of COVID-19 related tweets and their corresponding sentiment, create a predictive model to then infer the sentiment of future COVID-19 related tweets."
   ]
  },
  {
   "cell_type": "code",
   "execution_count": 1,
   "metadata": {
    "_cell_guid": "b1076dfc-b9ad-4769-8c92-a6c4dae69d19",
    "_uuid": "8f2839f25d086af736a60e9eeb907d3b93b6e0e5",
    "execution": {
     "iopub.execute_input": "2025-01-24T02:46:46.234454Z",
     "iopub.status.busy": "2025-01-24T02:46:46.232301Z",
     "iopub.status.idle": "2025-01-24T02:46:46.257941Z",
     "shell.execute_reply": "2025-01-24T02:46:46.256671Z",
     "shell.execute_reply.started": "2025-01-24T02:46:46.234340Z"
    }
   },
   "outputs": [
    {
     "name": "stderr",
     "output_type": "stream",
     "text": [
      "[nltk_data] Downloading package stopwords to\n",
      "[nltk_data]     C:\\Users\\lurap\\AppData\\Roaming\\nltk_data...\n",
      "[nltk_data]   Package stopwords is already up-to-date!\n"
     ]
    }
   ],
   "source": [
    "import os\n",
    "import time\n",
    "import datetime\n",
    "import requests\n",
    "import zipfile\n",
    "\n",
    "import numpy as np\n",
    "import pandas as pd\n",
    "import matplotlib.pyplot as plt\n",
    "import seaborn as sns\n",
    "import re\n",
    "import string\n",
    "\n",
    "import nltk\n",
    "from nltk.corpus import stopwords\n",
    "\n",
    "from collections import Counter\n",
    "\n",
    "import tensorflow as tf\n",
    "from tensorflow.keras.models import Sequential, load_model\n",
    "from tensorflow.keras.layers import Embedding, LSTM, Bidirectional, Dense, Dropout, BatchNormalization\n",
    "from tensorflow.keras.preprocessing.text import Tokenizer\n",
    "from tensorflow.keras.preprocessing.sequence import pad_sequences\n",
    "from tensorflow.keras.callbacks import EarlyStopping, ReduceLROnPlateau, ModelCheckpoint, TensorBoard\n",
    "from tensorflow.keras.optimizers import Adam\n",
    "from tensorflow.keras.regularizers import L2\n",
    "\n",
    "from sklearn.model_selection import KFold\n",
    "from sklearn.metrics import classification_report, confusion_matrix\n",
    "from sklearn.model_selection import train_test_split\n",
    "from sklearn.utils.class_weight import compute_class_weight\n",
    "\n",
    "import random\n",
    "np.random.seed(42)\n",
    "random.seed(42)\n",
    "tf.random.set_seed(42)\n",
    "\n",
    "try:\n",
    "    import unidecode\n",
    "except ImportError:\n",
    "    !pip install unidecode\n",
    "    import unidecode\n",
    "\n",
    "import warnings\n",
    "warnings.filterwarnings('ignore')\n",
    "\n",
    "nltk.download('stopwords')\n",
    "stop_words = set(stopwords.words('english'))\n",
    "pd.set_option('display.max_colwidth', None)"
   ]
  },
  {
   "cell_type": "markdown",
   "metadata": {},
   "source": [
    "## Step 1. Evaluate the dataset.¶"
   ]
  },
  {
   "cell_type": "code",
   "execution_count": 2,
   "metadata": {
    "execution": {
     "iopub.execute_input": "2025-01-24T01:52:46.691079Z",
     "iopub.status.busy": "2025-01-24T01:52:46.689919Z",
     "iopub.status.idle": "2025-01-24T01:52:47.060239Z",
     "shell.execute_reply": "2025-01-24T01:52:47.059309Z",
     "shell.execute_reply.started": "2025-01-24T01:52:46.691044Z"
    }
   },
   "outputs": [
    {
     "name": "stdout",
     "output_type": "stream",
     "text": [
      "Number of tweets for training: 41157\n",
      "Number of tweets for testing:  3798\n"
     ]
    }
   ],
   "source": [
    "train_df = pd.read_csv('covid-19-tweets/Corona_NLP_train.csv', encoding='latin1')\n",
    "test_df = pd.read_csv('covid-19-tweets/Corona_NLP_test.csv', encoding='latin1')\n",
    "\n",
    "print(f\"Number of tweets for training: {train_df.shape[0]}\")\n",
    "print(f\"Number of tweets for testing:  {test_df.shape[0]}\")"
   ]
  },
  {
   "cell_type": "code",
   "execution_count": 3,
   "metadata": {
    "execution": {
     "iopub.execute_input": "2025-01-23T12:27:31.598464Z",
     "iopub.status.busy": "2025-01-23T12:27:31.598028Z",
     "iopub.status.idle": "2025-01-23T12:27:31.611274Z",
     "shell.execute_reply": "2025-01-23T12:27:31.609854Z",
     "shell.execute_reply.started": "2025-01-23T12:27:31.598429Z"
    }
   },
   "outputs": [],
   "source": [
    "# Only the 'OriginalTweet' and 'Sentiment' columns are required\n",
    "train_df = train_df[['OriginalTweet', 'Sentiment']]\n",
    "test_df = test_df[['OriginalTweet', 'Sentiment']]"
   ]
  },
  {
   "cell_type": "code",
   "execution_count": 4,
   "metadata": {
    "execution": {
     "iopub.execute_input": "2025-01-23T12:27:31.613105Z",
     "iopub.status.busy": "2025-01-23T12:27:31.612715Z",
     "iopub.status.idle": "2025-01-23T12:27:31.640743Z",
     "shell.execute_reply": "2025-01-23T12:27:31.639478Z",
     "shell.execute_reply.started": "2025-01-23T12:27:31.613066Z"
    }
   },
   "outputs": [
    {
     "name": "stdout",
     "output_type": "stream",
     "text": [
      "Positive              11422\n",
      "Negative               9917\n",
      "Neutral                7713\n",
      "Extremely Positive     6624\n",
      "Extremely Negative     5481\n",
      "Name: Sentiment, dtype: int64\n"
     ]
    }
   ],
   "source": [
    "# Check what categories are used for 'Sentiment'\n",
    "print(train_df['Sentiment'].value_counts())"
   ]
  },
  {
   "cell_type": "markdown",
   "metadata": {},
   "source": [
    "There are 5 categories for Sentiments:<br>\n",
    "<--------------------------------------------------------------------><br>\n",
    "Extremely$~~~~~~~~$Negative$~~~~~~~~$Neutral$~~~~~~~~$Positive$~~~~~~~~$Extremely<br>\n",
    "Negative$~~~~~~~~~~~~~~~~~~~~~~~~~~~~~~~~~~~~~~~~~~~~~~~~~~~~~~~~~~~~~~~~~~~~~~~$Positive\n"
   ]
  },
  {
   "cell_type": "markdown",
   "metadata": {},
   "source": [
    "Convert these sentiments to integers."
   ]
  },
  {
   "cell_type": "code",
   "execution_count": 5,
   "metadata": {
    "execution": {
     "iopub.execute_input": "2025-01-23T12:27:31.642761Z",
     "iopub.status.busy": "2025-01-23T12:27:31.642341Z",
     "iopub.status.idle": "2025-01-23T12:27:31.675218Z",
     "shell.execute_reply": "2025-01-23T12:27:31.673965Z",
     "shell.execute_reply.started": "2025-01-23T12:27:31.642717Z"
    }
   },
   "outputs": [
    {
     "data": {
      "text/html": [
       "<div>\n",
       "<style scoped>\n",
       "    .dataframe tbody tr th:only-of-type {\n",
       "        vertical-align: middle;\n",
       "    }\n",
       "\n",
       "    .dataframe tbody tr th {\n",
       "        vertical-align: top;\n",
       "    }\n",
       "\n",
       "    .dataframe thead th {\n",
       "        text-align: right;\n",
       "    }\n",
       "</style>\n",
       "<table border=\"1\" class=\"dataframe\">\n",
       "  <thead>\n",
       "    <tr style=\"text-align: right;\">\n",
       "      <th></th>\n",
       "      <th>OriginalTweet</th>\n",
       "      <th>Sentiment</th>\n",
       "    </tr>\n",
       "  </thead>\n",
       "  <tbody>\n",
       "    <tr>\n",
       "      <th>0</th>\n",
       "      <td>@MeNyrbie @Phil_Gahan @Chrisitv https://t.co/iFz9FAn2Pa and https://t.co/xX6ghGFzCC and https://t.co/I2NlzdxNo8</td>\n",
       "      <td>2</td>\n",
       "    </tr>\n",
       "    <tr>\n",
       "      <th>1</th>\n",
       "      <td>advice Talk to your neighbours family to exchange phone numbers create contact list with phone numbers of neighbours schools employer chemist GP set up online shopping accounts if poss adequate supplies of regular meds but not over order</td>\n",
       "      <td>3</td>\n",
       "    </tr>\n",
       "    <tr>\n",
       "      <th>2</th>\n",
       "      <td>Coronavirus Australia: Woolworths to give elderly, disabled dedicated shopping hours amid COVID-19 outbreak https://t.co/bInCA9Vp8P</td>\n",
       "      <td>3</td>\n",
       "    </tr>\n",
       "    <tr>\n",
       "      <th>3</th>\n",
       "      <td>My food stock is not the only one which is empty...\\r\\r\\n\\r\\r\\nPLEASE, don't panic, THERE WILL BE ENOUGH FOOD FOR EVERYONE if you do not take more than you need. \\r\\r\\nStay calm, stay safe.\\r\\r\\n\\r\\r\\n#COVID19france #COVID_19 #COVID19 #coronavirus #confinement #Confinementotal #ConfinementGeneral https://t.co/zrlG0Z520j</td>\n",
       "      <td>3</td>\n",
       "    </tr>\n",
       "    <tr>\n",
       "      <th>4</th>\n",
       "      <td>Me, ready to go at supermarket during the #COVID19 outbreak.\\r\\r\\n\\r\\r\\nNot because I'm paranoid, but because my food stock is litteraly empty. The #coronavirus is a serious thing, but please, don't panic. It causes shortage...\\r\\r\\n\\r\\r\\n#CoronavirusFrance #restezchezvous #StayAtHome #confinement https://t.co/usmuaLq72n</td>\n",
       "      <td>0</td>\n",
       "    </tr>\n",
       "  </tbody>\n",
       "</table>\n",
       "</div>"
      ],
      "text/plain": [
       "                                                                                                                                                                                                                                                                                                                        OriginalTweet  \\\n",
       "0                                                                                                                                                                                                                     @MeNyrbie @Phil_Gahan @Chrisitv https://t.co/iFz9FAn2Pa and https://t.co/xX6ghGFzCC and https://t.co/I2NlzdxNo8   \n",
       "1                                                                                       advice Talk to your neighbours family to exchange phone numbers create contact list with phone numbers of neighbours schools employer chemist GP set up online shopping accounts if poss adequate supplies of regular meds but not over order   \n",
       "2                                                                                                                                                                                                 Coronavirus Australia: Woolworths to give elderly, disabled dedicated shopping hours amid COVID-19 outbreak https://t.co/bInCA9Vp8P   \n",
       "3   My food stock is not the only one which is empty...\\r\\r\\n\\r\\r\\nPLEASE, don't panic, THERE WILL BE ENOUGH FOOD FOR EVERYONE if you do not take more than you need. \\r\\r\\nStay calm, stay safe.\\r\\r\\n\\r\\r\\n#COVID19france #COVID_19 #COVID19 #coronavirus #confinement #Confinementotal #ConfinementGeneral https://t.co/zrlG0Z520j   \n",
       "4  Me, ready to go at supermarket during the #COVID19 outbreak.\\r\\r\\n\\r\\r\\nNot because I'm paranoid, but because my food stock is litteraly empty. The #coronavirus is a serious thing, but please, don't panic. It causes shortage...\\r\\r\\n\\r\\r\\n#CoronavirusFrance #restezchezvous #StayAtHome #confinement https://t.co/usmuaLq72n   \n",
       "\n",
       "   Sentiment  \n",
       "0          2  \n",
       "1          3  \n",
       "2          3  \n",
       "3          3  \n",
       "4          0  "
      ]
     },
     "execution_count": 5,
     "metadata": {},
     "output_type": "execute_result"
    }
   ],
   "source": [
    "# Map sentiment labels to integers\n",
    "sentiment_map = {\n",
    "    'Extremely Positive': 4,\n",
    "    'Positive': 3,\n",
    "    'Neutral': 2,\n",
    "    'Negative': 1,\n",
    "    'Extremely Negative': 0\n",
    "}\n",
    "train_df['Sentiment'] = train_df['Sentiment'].map(sentiment_map)\n",
    "test_df['Sentiment'] = test_df['Sentiment'].map(sentiment_map)\n",
    "\n",
    "train_df.head()"
   ]
  },
  {
   "cell_type": "markdown",
   "metadata": {},
   "source": [
    "As seen from the preview of the data, tweets can be populated with lots of text noise.<br>\n",
    "Here we use a function to cleanup each tweet so that it can be trimmed down to only its important words.<br>\n",
    "We make use of a list of stop words from NLTK which removes unimportant words such as:<br>\n",
    "“the”, “is”, “in”, “for”, “where”, “when”, “to”, “at”."
   ]
  },
  {
   "cell_type": "code",
   "execution_count": 6,
   "metadata": {
    "execution": {
     "iopub.execute_input": "2025-01-23T12:27:31.676922Z",
     "iopub.status.busy": "2025-01-23T12:27:31.676439Z",
     "iopub.status.idle": "2025-01-23T12:27:31.703669Z",
     "shell.execute_reply": "2025-01-23T12:27:31.702393Z",
     "shell.execute_reply.started": "2025-01-23T12:27:31.676876Z"
    }
   },
   "outputs": [],
   "source": [
    "def cleanup(tweet):\n",
    "    tweet = re.sub(r'http\\S+', ' ', tweet)  # remove links\n",
    "    tweet = re.sub(r'www\\S+', ' ', tweet)   # remove links\n",
    "    tweet = re.sub(r'@\\S+','', tweet)       # remove @/mentions\n",
    "    tweet = re.sub(r'#\\S+',' ', tweet)      # remove #/hashtags\n",
    "    tweet = re.sub(r'%20', ' ', tweet)      # remove %20 \n",
    "    tweet = re.sub(r'\\d+',' ', tweet)       # remove digits\n",
    "    tweet = unidecode.unidecode(tweet)      # convert accented characters to alphabet equivalent\n",
    "    tweet = tweet.translate(str.maketrans('', '', string.punctuation)) # remove punctuations\n",
    "    \n",
    "    tweet = tweet.split()\n",
    "    tweet = [word.lower() for word in tweet] # make every word lowercase to reduce unnecessary duplicates\n",
    "    tweet = [word for word in tweet if word not in stop_words] # remove unnecessary words\n",
    "    \n",
    "    tweet = \" \".join(tweet)\n",
    "    return tweet\n",
    "\n",
    "stop_words = stopwords.words('english')"
   ]
  },
  {
   "cell_type": "code",
   "execution_count": 7,
   "metadata": {
    "execution": {
     "iopub.execute_input": "2025-01-23T12:27:31.706612Z",
     "iopub.status.busy": "2025-01-23T12:27:31.706315Z",
     "iopub.status.idle": "2025-01-23T12:27:35.782562Z",
     "shell.execute_reply": "2025-01-23T12:27:35.781476Z",
     "shell.execute_reply.started": "2025-01-23T12:27:31.706585Z"
    }
   },
   "outputs": [],
   "source": [
    "# Clean them tweets\n",
    "train_df['OriginalTweet'] = train_df['OriginalTweet'].apply(cleanup)\n",
    "test_df['OriginalTweet']  = test_df['OriginalTweet'].apply(cleanup)"
   ]
  },
  {
   "cell_type": "code",
   "execution_count": 8,
   "metadata": {
    "execution": {
     "iopub.execute_input": "2025-01-23T12:27:35.784357Z",
     "iopub.status.busy": "2025-01-23T12:27:35.784000Z",
     "iopub.status.idle": "2025-01-23T12:27:35.799961Z",
     "shell.execute_reply": "2025-01-23T12:27:35.798953Z",
     "shell.execute_reply.started": "2025-01-23T12:27:35.784329Z"
    }
   },
   "outputs": [],
   "source": [
    "# This results in some tweets becoming empty strings\n",
    "train_df = train_df[train_df['OriginalTweet'] != '']\n",
    "test_df = test_df[test_df['OriginalTweet'] != '']"
   ]
  },
  {
   "cell_type": "code",
   "execution_count": 9,
   "metadata": {
    "execution": {
     "iopub.execute_input": "2025-01-23T12:27:35.801498Z",
     "iopub.status.busy": "2025-01-23T12:27:35.801188Z",
     "iopub.status.idle": "2025-01-23T12:27:35.819352Z",
     "shell.execute_reply": "2025-01-23T12:27:35.818336Z",
     "shell.execute_reply.started": "2025-01-23T12:27:35.801472Z"
    }
   },
   "outputs": [
    {
     "data": {
      "text/html": [
       "<div>\n",
       "<style scoped>\n",
       "    .dataframe tbody tr th:only-of-type {\n",
       "        vertical-align: middle;\n",
       "    }\n",
       "\n",
       "    .dataframe tbody tr th {\n",
       "        vertical-align: top;\n",
       "    }\n",
       "\n",
       "    .dataframe thead th {\n",
       "        text-align: right;\n",
       "    }\n",
       "</style>\n",
       "<table border=\"1\" class=\"dataframe\">\n",
       "  <thead>\n",
       "    <tr style=\"text-align: right;\">\n",
       "      <th></th>\n",
       "      <th>OriginalTweet</th>\n",
       "      <th>Sentiment</th>\n",
       "    </tr>\n",
       "  </thead>\n",
       "  <tbody>\n",
       "    <tr>\n",
       "      <th>1</th>\n",
       "      <td>advice talk neighbours family exchange phone numbers create contact list phone numbers neighbours schools employer chemist gp set online shopping accounts poss adequate supplies regular meds order</td>\n",
       "      <td>3</td>\n",
       "    </tr>\n",
       "    <tr>\n",
       "      <th>2</th>\n",
       "      <td>coronavirus australia woolworths give elderly disabled dedicated shopping hours amid covid outbreak</td>\n",
       "      <td>3</td>\n",
       "    </tr>\n",
       "    <tr>\n",
       "      <th>3</th>\n",
       "      <td>food stock one empty please dont panic enough food everyone take need stay calm stay safe</td>\n",
       "      <td>3</td>\n",
       "    </tr>\n",
       "    <tr>\n",
       "      <th>4</th>\n",
       "      <td>ready go supermarket outbreak im paranoid food stock litteraly empty serious thing please dont panic causes shortage</td>\n",
       "      <td>0</td>\n",
       "    </tr>\n",
       "    <tr>\n",
       "      <th>5</th>\n",
       "      <td>news regionas first confirmed covid case came sullivan county last week people flocked area stores purchase cleaning supplies hand sanitizer food toilet paper goods reports</td>\n",
       "      <td>3</td>\n",
       "    </tr>\n",
       "  </tbody>\n",
       "</table>\n",
       "</div>"
      ],
      "text/plain": [
       "                                                                                                                                                                                          OriginalTweet  \\\n",
       "1  advice talk neighbours family exchange phone numbers create contact list phone numbers neighbours schools employer chemist gp set online shopping accounts poss adequate supplies regular meds order   \n",
       "2                                                                                                   coronavirus australia woolworths give elderly disabled dedicated shopping hours amid covid outbreak   \n",
       "3                                                                                                             food stock one empty please dont panic enough food everyone take need stay calm stay safe   \n",
       "4                                                                                  ready go supermarket outbreak im paranoid food stock litteraly empty serious thing please dont panic causes shortage   \n",
       "5                          news regionas first confirmed covid case came sullivan county last week people flocked area stores purchase cleaning supplies hand sanitizer food toilet paper goods reports   \n",
       "\n",
       "   Sentiment  \n",
       "1          3  \n",
       "2          3  \n",
       "3          3  \n",
       "4          0  \n",
       "5          3  "
      ]
     },
     "execution_count": 9,
     "metadata": {},
     "output_type": "execute_result"
    }
   ],
   "source": [
    "train_df.head()"
   ]
  },
  {
   "cell_type": "code",
   "execution_count": 10,
   "metadata": {
    "execution": {
     "iopub.execute_input": "2025-01-23T12:27:35.820704Z",
     "iopub.status.busy": "2025-01-23T12:27:35.820360Z",
     "iopub.status.idle": "2025-01-23T12:27:35.843271Z",
     "shell.execute_reply": "2025-01-23T12:27:35.842171Z",
     "shell.execute_reply.started": "2025-01-23T12:27:35.820678Z"
    }
   },
   "outputs": [
    {
     "data": {
      "text/html": [
       "<div>\n",
       "<style scoped>\n",
       "    .dataframe tbody tr th:only-of-type {\n",
       "        vertical-align: middle;\n",
       "    }\n",
       "\n",
       "    .dataframe tbody tr th {\n",
       "        vertical-align: top;\n",
       "    }\n",
       "\n",
       "    .dataframe thead th {\n",
       "        text-align: right;\n",
       "    }\n",
       "</style>\n",
       "<table border=\"1\" class=\"dataframe\">\n",
       "  <thead>\n",
       "    <tr style=\"text-align: right;\">\n",
       "      <th></th>\n",
       "      <th>OriginalTweet</th>\n",
       "      <th>Sentiment</th>\n",
       "    </tr>\n",
       "  </thead>\n",
       "  <tbody>\n",
       "    <tr>\n",
       "      <th>0</th>\n",
       "      <td>trending new yorkers encounter empty supermarket shelves pictured wegmans brooklyn soldout online grocers foodkick maxdelivery shoppers stock</td>\n",
       "      <td>0</td>\n",
       "    </tr>\n",
       "    <tr>\n",
       "      <th>1</th>\n",
       "      <td>couldnt find hand sanitizer fred meyer turned pack purellcheck concerns driving prices</td>\n",
       "      <td>3</td>\n",
       "    </tr>\n",
       "    <tr>\n",
       "      <th>2</th>\n",
       "      <td>find protect loved ones</td>\n",
       "      <td>4</td>\n",
       "    </tr>\n",
       "    <tr>\n",
       "      <th>3</th>\n",
       "      <td>buying hits city anxious shoppers stock foodampmedical supplies worker becomes st confirmed patient staged event</td>\n",
       "      <td>1</td>\n",
       "    </tr>\n",
       "    <tr>\n",
       "      <th>4</th>\n",
       "      <td>one week everyone buying baby milk powder next everyone buying toilet paper</td>\n",
       "      <td>2</td>\n",
       "    </tr>\n",
       "  </tbody>\n",
       "</table>\n",
       "</div>"
      ],
      "text/plain": [
       "                                                                                                                                   OriginalTweet  \\\n",
       "0  trending new yorkers encounter empty supermarket shelves pictured wegmans brooklyn soldout online grocers foodkick maxdelivery shoppers stock   \n",
       "1                                                         couldnt find hand sanitizer fred meyer turned pack purellcheck concerns driving prices   \n",
       "2                                                                                                                        find protect loved ones   \n",
       "3                               buying hits city anxious shoppers stock foodampmedical supplies worker becomes st confirmed patient staged event   \n",
       "4                                                                    one week everyone buying baby milk powder next everyone buying toilet paper   \n",
       "\n",
       "   Sentiment  \n",
       "0          0  \n",
       "1          3  \n",
       "2          4  \n",
       "3          1  \n",
       "4          2  "
      ]
     },
     "execution_count": 10,
     "metadata": {},
     "output_type": "execute_result"
    }
   ],
   "source": [
    "test_df.head()"
   ]
  },
  {
   "cell_type": "markdown",
   "metadata": {},
   "source": [
    "We need to determine an appropriate vocabulary size to train the model on.<br>\n",
    "Using all the words in the data could have a larger compute cost and may lead to overfitting.<br>\n",
    "Count unique words and plot their frequency.<br>\n",
    "This will help use determine vocabulary size for the model."
   ]
  },
  {
   "cell_type": "code",
   "execution_count": 11,
   "metadata": {
    "execution": {
     "iopub.execute_input": "2025-01-23T12:27:35.844654Z",
     "iopub.status.busy": "2025-01-23T12:27:35.844388Z",
     "iopub.status.idle": "2025-01-23T12:27:37.336789Z",
     "shell.execute_reply": "2025-01-23T12:27:37.335689Z",
     "shell.execute_reply.started": "2025-01-23T12:27:35.844631Z"
    }
   },
   "outputs": [
    {
     "data": {
      "image/png": "[encoded data removed]",
      "text/plain": [
       "<Figure size 1200x600 with 1 Axes>"
      ]
     },
     "metadata": {},
     "output_type": "display_data"
    }
   ],
   "source": [
    "# All tweets:\n",
    "combined_tweets = pd.concat([train_df['OriginalTweet'], test_df['OriginalTweet']])\n",
    "\n",
    "# Count word frequencies\n",
    "all_words = ' '.join(combined_tweets).split()\n",
    "word_counts = Counter(all_words)\n",
    "\n",
    "# Sort by frequency\n",
    "sorted_word_counts = word_counts.most_common()\n",
    "words, counts = zip(*sorted_word_counts)\n",
    "\n",
    "# Plot word frequencies with a logarithmic scale\n",
    "plt.figure(figsize=(12, 6))\n",
    "plt.plot(range(len(counts)), counts, label='Word Frequency')\n",
    "plt.yscale('log')\n",
    "plt.xlabel('Unique Words')\n",
    "plt.ylabel('Frequency')\n",
    "plt.title('Word Frequency Distribution (Log Scale)')\n",
    "plt.legend()\n",
    "plt.show()"
   ]
  },
  {
   "cell_type": "markdown",
   "metadata": {},
   "source": [
    "The graph shows a drastic drop in frequency before 20,000 unique words. Hence, we can limit our model's vocabulary size to the top 20,000 most frequent words."
   ]
  },
  {
   "cell_type": "markdown",
   "metadata": {},
   "source": [
    "We split our training data into training and validation with an 80-20 split."
   ]
  },
  {
   "cell_type": "code",
   "execution_count": 12,
   "metadata": {
    "execution": {
     "iopub.execute_input": "2025-01-23T12:27:37.338107Z",
     "iopub.status.busy": "2025-01-23T12:27:37.337764Z",
     "iopub.status.idle": "2025-01-23T12:27:37.365972Z",
     "shell.execute_reply": "2025-01-23T12:27:37.364971Z",
     "shell.execute_reply.started": "2025-01-23T12:27:37.338077Z"
    }
   },
   "outputs": [],
   "source": [
    "# Split training data into training and validation sets\n",
    "train_data, val_data = train_test_split(train_df, test_size=0.2, stratify=train_df['Sentiment'], random_state=42)"
   ]
  },
  {
   "cell_type": "markdown",
   "metadata": {},
   "source": [
    "Another issue we might face is the class imbalance.<br>\n",
    "Let's evaluate the frequency of each class."
   ]
  },
  {
   "cell_type": "code",
   "execution_count": 13,
   "metadata": {
    "execution": {
     "iopub.execute_input": "2025-01-23T12:27:37.369320Z",
     "iopub.status.busy": "2025-01-23T12:27:37.368992Z",
     "iopub.status.idle": "2025-01-23T12:27:37.376444Z",
     "shell.execute_reply": "2025-01-23T12:27:37.375278Z",
     "shell.execute_reply.started": "2025-01-23T12:27:37.369291Z"
    }
   },
   "outputs": [
    {
     "name": "stdout",
     "output_type": "stream",
     "text": [
      "3    9136\n",
      "1    7932\n",
      "2    6132\n",
      "4    5299\n",
      "0    4385\n",
      "Name: Sentiment, dtype: int64\n"
     ]
    }
   ],
   "source": [
    "# Count the representation of each class in our training data\n",
    "print(train_data['Sentiment'].value_counts())"
   ]
  },
  {
   "cell_type": "markdown",
   "metadata": {},
   "source": [
    "From the frequency of the classes, we can create class weights to be applied on our model during training.<br>\n",
    "This helps our model avoid having a bias towards the class with the greatest frequency."
   ]
  },
  {
   "cell_type": "code",
   "execution_count": 14,
   "metadata": {
    "execution": {
     "iopub.execute_input": "2025-01-23T12:27:37.378375Z",
     "iopub.status.busy": "2025-01-23T12:27:37.377990Z",
     "iopub.status.idle": "2025-01-23T12:27:37.404927Z",
     "shell.execute_reply": "2025-01-23T12:27:37.403437Z",
     "shell.execute_reply.started": "2025-01-23T12:27:37.378328Z"
    }
   },
   "outputs": [
    {
     "name": "stdout",
     "output_type": "stream",
     "text": [
      "{3: 0.7198774080560421, 1: 0.8291477559253656, 2: 1.0725375081539466, 4: 1.2411398377052274, 0: 1.4998403648802736}\n"
     ]
    }
   ],
   "source": [
    "# Frequencies of each class\n",
    "class_frequencies = [9136, 7932, 6132, 5299, 4385]\n",
    "classes = [3, 1, 2, 4, 0]\n",
    "\n",
    "# Create a list of labels based on the class frequencies\n",
    "labels = np.hstack([[cls] * freq for cls, freq in zip(classes, class_frequencies)])\n",
    "\n",
    "# Calculate class weights\n",
    "class_weights = compute_class_weight('balanced', classes=classes, y=labels)\n",
    "\n",
    "# Convert to dictionary\n",
    "class_weights_dict = dict(zip(classes, class_weights))\n",
    "print(class_weights_dict)"
   ]
  },
  {
   "cell_type": "markdown",
   "metadata": {},
   "source": [
    "Now let's examine our final dataset."
   ]
  },
  {
   "cell_type": "code",
   "execution_count": 15,
   "metadata": {
    "execution": {
     "iopub.execute_input": "2025-01-23T12:27:37.406341Z",
     "iopub.status.busy": "2025-01-23T12:27:37.406048Z",
     "iopub.status.idle": "2025-01-23T12:27:37.425331Z",
     "shell.execute_reply": "2025-01-23T12:27:37.424188Z",
     "shell.execute_reply.started": "2025-01-23T12:27:37.406316Z"
    }
   },
   "outputs": [
    {
     "name": "stdout",
     "output_type": "stream",
     "text": [
      "Number of tweets left for training: 32884, from 41157\n",
      "Number of tweets left for testing:   3795, from  3798\n",
      "Number of tweets for validating:     8222\n"
     ]
    }
   ],
   "source": [
    "print(f\"Number of tweets left for training: {train_data.shape[0]}, from 41157\")\n",
    "print(f\"Number of tweets left for testing:   {test_df.shape[0]}, from  3798\")\n",
    "print(f\"Number of tweets for validating:     {val_data.shape[0]}\")"
   ]
  },
  {
   "cell_type": "markdown",
   "metadata": {},
   "source": [
    "Use a tokenizer to transform our text data to numerical data."
   ]
  },
  {
   "cell_type": "code",
   "execution_count": 16,
   "metadata": {
    "execution": {
     "iopub.execute_input": "2025-01-23T12:27:37.426812Z",
     "iopub.status.busy": "2025-01-23T12:27:37.426458Z",
     "iopub.status.idle": "2025-01-23T12:27:39.159243Z",
     "shell.execute_reply": "2025-01-23T12:27:39.158035Z",
     "shell.execute_reply.started": "2025-01-23T12:27:37.426769Z"
    }
   },
   "outputs": [],
   "source": [
    "# Initialize tokenizer\n",
    "vocab_size = 20000\n",
    "max_len = max(len(tweet.split()) for tweet in combined_tweets)\n",
    "oov_token = '<OOV>'\n",
    "tokenizer = Tokenizer(num_words=vocab_size, oov_token=oov_token)\n",
    "tokenizer.fit_on_texts(train_data['OriginalTweet'])\n",
    "\n",
    "# Tokenize and pad sequences\n",
    "X_train = pad_sequences(tokenizer.texts_to_sequences(train_data['OriginalTweet']), maxlen=max_len)\n",
    "X_val = pad_sequences(tokenizer.texts_to_sequences(val_data['OriginalTweet']), maxlen=max_len)\n",
    "X_test = pad_sequences(tokenizer.texts_to_sequences(test_df['OriginalTweet']), maxlen=max_len)\n",
    "\n",
    "y_train = train_data['Sentiment'].values\n",
    "y_val = val_data['Sentiment'].values\n",
    "y_test = test_df['Sentiment'].values"
   ]
  },
  {
   "cell_type": "markdown",
   "metadata": {},
   "source": [
    "We use GloVe embeddings to enrich the model with a deeper understanding of language.<br>\n",
    "This makes it more effective in capturing the sentiment and meaning behind the words in the tweets."
   ]
  },
  {
   "cell_type": "code",
   "execution_count": 17,
   "metadata": {
    "execution": {
     "iopub.execute_input": "2025-01-23T12:27:39.161006Z",
     "iopub.status.busy": "2025-01-23T12:27:39.160636Z",
     "iopub.status.idle": "2025-01-23T12:27:49.354235Z",
     "shell.execute_reply": "2025-01-23T12:27:49.353154Z",
     "shell.execute_reply.started": "2025-01-23T12:27:39.160973Z"
    }
   },
   "outputs": [
    {
     "name": "stdout",
     "output_type": "stream",
     "text": [
      "GloVe embeddings already downloaded and extracted.\n"
     ]
    }
   ],
   "source": [
    "# URL for GloVe embeddings\n",
    "glove_url = \"http://nlp.stanford.edu/data/glove.6B.zip\"\n",
    "glove_zip_path = \"covid-19-tweets/glove.6B.zip\"\n",
    "glove_extracted_path = \"covid-19-tweets/glove.6B.100d.txt\"\n",
    "\n",
    "# Download the GloVe embeddings\n",
    "if not os.path.exists(glove_zip_path):\n",
    "    print(\"Downloading GloVe embeddings...\")\n",
    "    response = requests.get(glove_url, stream=True)\n",
    "    with open(glove_zip_path, \"wb\") as f:\n",
    "        for chunk in response.iter_content(chunk_size=128):\n",
    "            f.write(chunk)\n",
    "    print(\"Download complete.\")\n",
    "\n",
    "# Unzip the GloVe embeddings\n",
    "if not os.path.exists(glove_extracted_path):\n",
    "    print(\"Unzipping GloVe embeddings...\")\n",
    "    with zipfile.ZipFile(glove_zip_path, 'r') as zip_ref:\n",
    "        zip_ref.extractall()\n",
    "    print(\"Unzip complete.\")\n",
    "else:\n",
    "    print(\"GloVe embeddings already downloaded and extracted.\")\n",
    "\n",
    "# Load GloVe embeddings\n",
    "embedding_dim = 100\n",
    "embeddings_index = {}\n",
    "with open(glove_extracted_path, encoding='utf-8') as f:\n",
    "    for line in f:\n",
    "        values = line.split()\n",
    "        word = values[0]\n",
    "        embedding_vector = np.array(values[1:], dtype='float32')\n",
    "        embeddings_index[word] = embedding_vector\n",
    "\n",
    "# Create embedding matrix\n",
    "embedding_matrix = np.zeros((vocab_size, embedding_dim))\n",
    "for word, i in tokenizer.word_index.items():\n",
    "    if i < vocab_size:\n",
    "        embedding_vector = embeddings_index.get(word)\n",
    "        if embedding_vector is not None:\n",
    "            embedding_matrix[i] = embedding_vector"
   ]
  },
  {
   "cell_type": "markdown",
   "metadata": {},
   "source": [
    "Tweets with meaning contain words, and these words sequential.<br>\n",
    "For our Model, we use a Recurrent Neural Network, which excels at handling sequential data.<br>\n",
    "The layers in the model are:\n",
    "1. Embedding Layer: receives the input words and captures the semantic meaning of the data.\n",
    "2. Bidirectional LSTM Layer: captures long-term dependencies, and processes the data forwards and backwards.\n",
    "3. Dense Layers: processes the features extracted by the LSTM and prepares them for the final classification.\n",
    "4. Output Layer: classifies each tweet according to their inferred sentiment."
   ]
  },
  {
   "cell_type": "code",
   "execution_count": 18,
   "metadata": {
    "execution": {
     "iopub.execute_input": "2025-01-23T12:27:49.355706Z",
     "iopub.status.busy": "2025-01-23T12:27:49.355407Z",
     "iopub.status.idle": "2025-01-23T12:56:19.750891Z",
     "shell.execute_reply": "2025-01-23T12:56:19.749404Z",
     "shell.execute_reply.started": "2025-01-23T12:27:49.355680Z"
    }
   },
   "outputs": [
    {
     "data": {
      "text/plain": [
       "'\\ncd \"Documents\\\\DATA\\\\ACADEMICS\\\\Machine-Learning-Specialization-Coursera-1a6b6fc2851e6ab2d44f86b84db316a82a70e494\\\\my projects\\\\covid-19-tweets\"\\nrm -rf ./logs/\\npython -m tensorboard.main --logdir=\"logs\\x0cit\"\\nhttp://localhost:6006/\\n'"
      ]
     },
     "execution_count": 18,
     "metadata": {},
     "output_type": "execute_result"
    }
   ],
   "source": [
    "# Define the RNN model\n",
    "model = Sequential([\n",
    "    \n",
    "    Embedding(input_dim=vocab_size,output_dim=embedding_dim,\n",
    "              input_length=max_len,weights=[embedding_matrix],trainable=True\n",
    "    ),\n",
    "    \n",
    "    Bidirectional(LSTM(128,return_sequences=False,dropout=0.2)\n",
    "    ),\n",
    "    \n",
    "    BatchNormalization(),\n",
    "    Dropout(0.2),\n",
    "    Dense(128, activation='relu', kernel_regularizer=L2(0.01)),\n",
    "    Dense(64, activation='relu', kernel_regularizer=L2(0.01)),\n",
    "    Dense(5, activation='softmax')\n",
    "])\n",
    "\n",
    "model.compile(\n",
    "    optimizer=Adam(learning_rate=0.001),\n",
    "    loss='sparse_categorical_crossentropy',\n",
    "    metrics=['accuracy']\n",
    ")\n",
    "\n",
    "# Early stopping in case the model is not improving\n",
    "early_stopping = EarlyStopping(\n",
    "    monitor='val_accuracy', \n",
    "    patience=3, \n",
    "    restore_best_weights=True\n",
    ")\n",
    "\n",
    "# Learning rate scheduler\n",
    "lr_scheduler = ReduceLROnPlateau(\n",
    "    monitor='val_loss', \n",
    "    factor=0.1, \n",
    "    patience=2, \n",
    "    min_lr=0.00001\n",
    ")\n",
    "\n",
    "# Custom file name per training\n",
    "date_time = datetime.datetime.now().strftime(\"%Y%m%d-%H%M%S\")\n",
    "\n",
    "# Save the best model in case I want to continue training from there\n",
    "checkpoint = ModelCheckpoint(\n",
    "    f'covid-19-tweets/best_model_{date_time}.keras', \n",
    "    monitor='val_accuracy',\n",
    "    verbose=1,\n",
    "    save_best_only=True,\n",
    "    mode='max',\n",
    "    save_weights_only=False\n",
    ")"
   ]
  },
  {
   "cell_type": "code",
   "execution_count": 19,
   "metadata": {},
   "outputs": [
    {
     "name": "stdout",
     "output_type": "stream",
     "text": [
      "Epoch 1/50\n",
      "\u001b[1m257/257\u001b[0m \u001b[32m━━━━━━━━━━━━━━━━━━━━\u001b[0m\u001b[37m\u001b[0m \u001b[1m0s\u001b[0m 164ms/step - accuracy: 0.3722 - loss: 2.9165\n",
      "Epoch 1: val_accuracy improved from -inf to 0.58903, saving model to covid-19-tweets/best_model_20250124-123124.keras\n",
      "\u001b[1m257/257\u001b[0m \u001b[32m━━━━━━━━━━━━━━━━━━━━\u001b[0m\u001b[37m\u001b[0m \u001b[1m52s\u001b[0m 180ms/step - accuracy: 0.3725 - loss: 2.9136 - val_accuracy: 0.5890 - val_loss: 1.3972 - learning_rate: 0.0010\n",
      "Epoch 2/50\n",
      "\u001b[1m257/257\u001b[0m \u001b[32m━━━━━━━━━━━━━━━━━━━━\u001b[0m\u001b[37m\u001b[0m \u001b[1m0s\u001b[0m 170ms/step - accuracy: 0.5766 - loss: 1.1133\n",
      "Epoch 2: val_accuracy improved from 0.58903 to 0.66115, saving model to covid-19-tweets/best_model_20250124-123124.keras\n",
      "\u001b[1m257/257\u001b[0m \u001b[32m━━━━━━━━━━━━━━━━━━━━\u001b[0m\u001b[37m\u001b[0m \u001b[1m47s\u001b[0m 183ms/step - accuracy: 0.5767 - loss: 1.1128 - val_accuracy: 0.6612 - val_loss: 0.8979 - learning_rate: 0.0010\n",
      "Epoch 3/50\n",
      "\u001b[1m257/257\u001b[0m \u001b[32m━━━━━━━━━━━━━━━━━━━━\u001b[0m\u001b[37m\u001b[0m \u001b[1m0s\u001b[0m 157ms/step - accuracy: 0.6989 - loss: 0.7793\n",
      "Epoch 3: val_accuracy improved from 0.66115 to 0.71734, saving model to covid-19-tweets/best_model_20250124-123124.keras\n",
      "\u001b[1m257/257\u001b[0m \u001b[32m━━━━━━━━━━━━━━━━━━━━\u001b[0m\u001b[37m\u001b[0m \u001b[1m44s\u001b[0m 170ms/step - accuracy: 0.6990 - loss: 0.7791 - val_accuracy: 0.7173 - val_loss: 0.7830 - learning_rate: 0.0010\n",
      "Epoch 4/50\n",
      "\u001b[1m257/257\u001b[0m \u001b[32m━━━━━━━━━━━━━━━━━━━━\u001b[0m\u001b[37m\u001b[0m \u001b[1m0s\u001b[0m 162ms/step - accuracy: 0.7655 - loss: 0.6375\n",
      "Epoch 4: val_accuracy improved from 0.71734 to 0.73729, saving model to covid-19-tweets/best_model_20250124-123124.keras\n",
      "\u001b[1m257/257\u001b[0m \u001b[32m━━━━━━━━━━━━━━━━━━━━\u001b[0m\u001b[37m\u001b[0m \u001b[1m45s\u001b[0m 176ms/step - accuracy: 0.7656 - loss: 0.6374 - val_accuracy: 0.7373 - val_loss: 0.7511 - learning_rate: 0.0010\n",
      "Epoch 5/50\n",
      "\u001b[1m257/257\u001b[0m \u001b[32m━━━━━━━━━━━━━━━━━━━━\u001b[0m\u001b[37m\u001b[0m \u001b[1m0s\u001b[0m 164ms/step - accuracy: 0.8024 - loss: 0.5551\n",
      "Epoch 5: val_accuracy improved from 0.73729 to 0.76052, saving model to covid-19-tweets/best_model_20250124-123124.keras\n",
      "\u001b[1m257/257\u001b[0m \u001b[32m━━━━━━━━━━━━━━━━━━━━\u001b[0m\u001b[37m\u001b[0m \u001b[1m45s\u001b[0m 176ms/step - accuracy: 0.8024 - loss: 0.5551 - val_accuracy: 0.7605 - val_loss: 0.7201 - learning_rate: 0.0010\n",
      "Epoch 6/50\n",
      "\u001b[1m257/257\u001b[0m \u001b[32m━━━━━━━━━━━━━━━━━━━━\u001b[0m\u001b[37m\u001b[0m \u001b[1m0s\u001b[0m 162ms/step - accuracy: 0.8278 - loss: 0.5038\n",
      "Epoch 6: val_accuracy improved from 0.76052 to 0.77244, saving model to covid-19-tweets/best_model_20250124-123124.keras\n",
      "\u001b[1m257/257\u001b[0m \u001b[32m━━━━━━━━━━━━━━━━━━━━\u001b[0m\u001b[37m\u001b[0m \u001b[1m45s\u001b[0m 176ms/step - accuracy: 0.8279 - loss: 0.5037 - val_accuracy: 0.7724 - val_loss: 0.7173 - learning_rate: 0.0010\n",
      "Epoch 7/50\n",
      "\u001b[1m257/257\u001b[0m \u001b[32m━━━━━━━━━━━━━━━━━━━━\u001b[0m\u001b[37m\u001b[0m \u001b[1m0s\u001b[0m 161ms/step - accuracy: 0.8435 - loss: 0.4649\n",
      "Epoch 7: val_accuracy did not improve from 0.77244\n",
      "\u001b[1m257/257\u001b[0m \u001b[32m━━━━━━━━━━━━━━━━━━━━\u001b[0m\u001b[37m\u001b[0m \u001b[1m44s\u001b[0m 173ms/step - accuracy: 0.8435 - loss: 0.4649 - val_accuracy: 0.7689 - val_loss: 0.7161 - learning_rate: 0.0010\n",
      "Epoch 8/50\n",
      "\u001b[1m257/257\u001b[0m \u001b[32m━━━━━━━━━━━━━━━━━━━━\u001b[0m\u001b[37m\u001b[0m \u001b[1m0s\u001b[0m 157ms/step - accuracy: 0.8614 - loss: 0.4255\n",
      "Epoch 8: val_accuracy did not improve from 0.77244\n",
      "\u001b[1m257/257\u001b[0m \u001b[32m━━━━━━━━━━━━━━━━━━━━\u001b[0m\u001b[37m\u001b[0m \u001b[1m43s\u001b[0m 169ms/step - accuracy: 0.8614 - loss: 0.4255 - val_accuracy: 0.7685 - val_loss: 0.7626 - learning_rate: 0.0010\n",
      "Epoch 9/50\n",
      "\u001b[1m257/257\u001b[0m \u001b[32m━━━━━━━━━━━━━━━━━━━━\u001b[0m\u001b[37m\u001b[0m \u001b[1m0s\u001b[0m 163ms/step - accuracy: 0.8705 - loss: 0.3973\n",
      "Epoch 9: val_accuracy did not improve from 0.77244\n",
      "\u001b[1m257/257\u001b[0m \u001b[32m━━━━━━━━━━━━━━━━━━━━\u001b[0m\u001b[37m\u001b[0m \u001b[1m45s\u001b[0m 174ms/step - accuracy: 0.8705 - loss: 0.3973 - val_accuracy: 0.7649 - val_loss: 0.7607 - learning_rate: 0.0010\n",
      "Total Fitting Time: 00:06:52\n"
     ]
    }
   ],
   "source": [
    "# Start training timer\n",
    "start_time = time.time()\n",
    "\n",
    "# Train the model\n",
    "history = model.fit(\n",
    "    X_train, y_train,\n",
    "    validation_data=(X_val, y_val),\n",
    "    epochs=50,\n",
    "    batch_size=128,\n",
    "    verbose=1,\n",
    "    class_weight=class_weights_dict,\n",
    "    callbacks=[early_stopping, checkpoint, lr_scheduler],\n",
    ")\n",
    "\n",
    "# Show training time \n",
    "end_time = time.time()\n",
    "elapsed_time = end_time - start_time\n",
    "hours, rem = divmod(elapsed_time, 3600)\n",
    "minutes, seconds = divmod(rem, 60)\n",
    "print(f\"Total Fitting Time: {int(hours):02}:{int(minutes):02}:{int(seconds):02}\")"
   ]
  },
  {
   "cell_type": "code",
   "execution_count": 20,
   "metadata": {
    "execution": {
     "iopub.execute_input": "2025-01-23T12:56:19.752985Z",
     "iopub.status.busy": "2025-01-23T12:56:19.752609Z",
     "iopub.status.idle": "2025-01-23T12:56:20.040669Z",
     "shell.execute_reply": "2025-01-23T12:56:20.039559Z",
     "shell.execute_reply.started": "2025-01-23T12:56:19.752953Z"
    }
   },
   "outputs": [
    {
     "name": "stdout",
     "output_type": "stream",
     "text": [
      "Loaded the newest model: covid-19-tweets\\best_model_20250124-123124.keras\n"
     ]
    }
   ],
   "source": [
    "import glob\n",
    "\n",
    "keras_files = glob.glob('covid-19-tweets/*.keras')\n",
    "newest_file = max(keras_files, key=os.path.getmtime)\n",
    "best_model = load_model(newest_file)\n",
    "print(f\"Loaded the newest model: {newest_file}\")"
   ]
  },
  {
   "cell_type": "code",
   "execution_count": 21,
   "metadata": {
    "execution": {
     "iopub.execute_input": "2025-01-23T12:56:20.041977Z",
     "iopub.status.busy": "2025-01-23T12:56:20.041660Z",
     "iopub.status.idle": "2025-01-23T12:56:20.571163Z",
     "shell.execute_reply": "2025-01-23T12:56:20.569872Z",
     "shell.execute_reply.started": "2025-01-23T12:56:20.041948Z"
    }
   },
   "outputs": [
    {
     "data": {
      "image/png": "[encoded data removed]",
      "text/plain": [
       "<Figure size 1500x600 with 2 Axes>"
      ]
     },
     "metadata": {},
     "output_type": "display_data"
    }
   ],
   "source": [
    "# Create a 1x2 grid of subplots (1 row, 2 columns)\n",
    "fig, axes = plt.subplots(1, 2, figsize=(15, 6))\n",
    "\n",
    "# Plot training & validation accuracy\n",
    "axes[0].plot(history.history['accuracy'], label='Training Accuracy')\n",
    "axes[0].plot(history.history['val_accuracy'], label='Validation Accuracy')\n",
    "axes[0].set_title('Training and Validation Accuracy')\n",
    "axes[0].set_xlabel('Epochs')\n",
    "axes[0].set_ylabel('Accuracy')\n",
    "axes[0].legend()\n",
    "axes[0].grid(True)\n",
    "\n",
    "# Plot training & validation loss\n",
    "axes[1].plot(history.history['loss'], label='Training Loss')\n",
    "axes[1].plot(history.history['val_loss'], label='Validation Loss')\n",
    "axes[1].set_title('Training and Validation Loss')\n",
    "axes[1].set_xlabel('Epochs')\n",
    "axes[1].set_ylabel('Loss')\n",
    "axes[1].legend()\n",
    "axes[1].grid(True)\n",
    "\n",
    "# Adjust layout to prevent overlap\n",
    "plt.tight_layout()\n",
    "plt.show()"
   ]
  },
  {
   "cell_type": "code",
   "execution_count": 22,
   "metadata": {
    "execution": {
     "iopub.execute_input": "2025-01-23T12:56:20.572967Z",
     "iopub.status.busy": "2025-01-23T12:56:20.572500Z",
     "iopub.status.idle": "2025-01-23T12:56:27.945386Z",
     "shell.execute_reply": "2025-01-23T12:56:27.944237Z",
     "shell.execute_reply.started": "2025-01-23T12:56:20.572922Z"
    }
   },
   "outputs": [
    {
     "name": "stdout",
     "output_type": "stream",
     "text": [
      "\u001b[1m119/119\u001b[0m \u001b[32m━━━━━━━━━━━━━━━━━━━━\u001b[0m\u001b[37m\u001b[0m \u001b[1m2s\u001b[0m 18ms/step\n"
     ]
    },
    {
     "data": {
      "image/png": "[encoded data removed]",
      "text/plain": [
       "<Figure size 800x600 with 2 Axes>"
      ]
     },
     "metadata": {},
     "output_type": "display_data"
    }
   ],
   "source": [
    "# Define the class labels (replace with your actual sentiment labels)\n",
    "sentiment_str = ['Extremely Negative', 'Negative', 'Neutral', 'Positive', 'Extremely Positive']\n",
    "\n",
    "# Get predictions for the test data using best_model\n",
    "y_pred = best_model.predict(X_test)\n",
    "y_pred_classes = np.argmax(y_pred, axis=1)\n",
    "\n",
    "# Compute the confusion matrix\n",
    "cm = confusion_matrix(y_test, y_pred_classes)\n",
    "\n",
    "# Plot the confusion matrix\n",
    "plt.figure(figsize=(8, 6))\n",
    "sns.heatmap(cm, annot=True, fmt='d', cmap='Blues', xticklabels=sentiment_str, yticklabels=sentiment_str)\n",
    "plt.title('Confusion Matrix')\n",
    "plt.xlabel('Predicted Label')\n",
    "plt.ylabel('True Label')\n",
    "plt.show()"
   ]
  },
  {
   "cell_type": "code",
   "execution_count": 23,
   "metadata": {
    "execution": {
     "iopub.execute_input": "2025-01-23T12:56:27.946731Z",
     "iopub.status.busy": "2025-01-23T12:56:27.946437Z",
     "iopub.status.idle": "2025-01-23T12:56:33.564572Z",
     "shell.execute_reply": "2025-01-23T12:56:33.563580Z",
     "shell.execute_reply.started": "2025-01-23T12:56:27.946704Z"
    }
   },
   "outputs": [
    {
     "name": "stdout",
     "output_type": "stream",
     "text": [
      "Classification Report:\n",
      "                    precision    recall  f1-score   support\n",
      "\n",
      "Extremely Negative       0.64      0.85      0.73       592\n",
      "          Negative       0.70      0.56      0.62      1041\n",
      "           Neutral       0.87      0.76      0.81       616\n",
      "          Positive       0.69      0.76      0.72       947\n",
      "Extremely Positive       0.81      0.79      0.80       599\n",
      "\n",
      "          accuracy                           0.72      3795\n",
      "         macro avg       0.74      0.74      0.74      3795\n",
      "      weighted avg       0.73      0.72      0.72      3795\n",
      "\n"
     ]
    }
   ],
   "source": [
    "# Generate the classification report\n",
    "report = classification_report(y_test, y_pred_classes, target_names=sentiment_str)\n",
    "\n",
    "# Print the report\n",
    "print(\"Classification Report:\")\n",
    "print(report)"
   ]
  },
  {
   "cell_type": "markdown",
   "metadata": {},
   "source": [
    "The model can classify sentiments of Extremely Negative, Negative, Neutral, Positive, and Extremely Positive with an F1 score of 72%.<br>\n",
    "<br>\n",
    "However, we can generalize the extremes of the sentiment and only classify sentiments according to Negative, Neutral, and Positive."
   ]
  },
  {
   "cell_type": "code",
   "execution_count": 24,
   "metadata": {},
   "outputs": [
    {
     "data": {
      "image/png": "[encoded data removed]",
      "text/plain": [
       "<Figure size 800x600 with 2 Axes>"
      ]
     },
     "metadata": {},
     "output_type": "display_data"
    },
    {
     "name": "stdout",
     "output_type": "stream",
     "text": [
      "Classification Report (Generalized Sentiment):\n",
      "              precision    recall  f1-score   support\n",
      "\n",
      "    Negative       0.87      0.86      0.87      1633\n",
      "     Neutral       0.87      0.76      0.81       616\n",
      "    Positive       0.86      0.91      0.88      1546\n",
      "\n",
      "    accuracy                           0.87      3795\n",
      "   macro avg       0.87      0.85      0.85      3795\n",
      "weighted avg       0.87      0.87      0.86      3795\n",
      "\n"
     ]
    }
   ],
   "source": [
    "generalized_sentiment_str = ['Negative', 'Neutral', 'Positive']\n",
    "\n",
    "# Convert the class labels\n",
    "original_classes = [0, 1, 2, 3, 4]\n",
    "generalized_classes = [0, 0, 1, 2, 2]\n",
    "class_mapping = {original: generalized for original, generalized in zip(original_classes, generalized_classes)}\n",
    "\n",
    "# Adjust y\n",
    "y_test_generalized = np.array([class_mapping[label] for label in y_test])\n",
    "y_pred_generalized = np.array([class_mapping[label] for label in y_pred_classes])\n",
    "\n",
    "# Compute the confusion matrix\n",
    "cm = confusion_matrix(y_test_generalized, y_pred_generalized)\n",
    "\n",
    "# Plot the confusion matrix\n",
    "plt.figure(figsize=(8, 6))\n",
    "sns.heatmap(cm, annot=True, fmt='d', cmap='Blues', xticklabels=generalized_sentiment_str, yticklabels=generalized_sentiment_str)\n",
    "plt.title('Confusion Matrix (Generalized Sentiment)')\n",
    "plt.xlabel('Predicted Label')\n",
    "plt.ylabel('True Label')\n",
    "plt.show()\n",
    "\n",
    "# Generate the classification report\n",
    "report = classification_report(y_test_generalized, y_pred_generalized, target_names=generalized_sentiment_str)\n",
    "\n",
    "# Print the report\n",
    "print(\"Classification Report (Generalized Sentiment):\")\n",
    "print(report)"
   ]
  },
  {
   "cell_type": "markdown",
   "metadata": {},
   "source": [
    "The model can classify sentiments of Negative, Neutral, and Positive with an F1 score of 87%."
   ]
  },
  {
   "cell_type": "code",
   "execution_count": 25,
   "metadata": {},
   "outputs": [],
   "source": [
    "# Get the original tweets from the test set\n",
    "tweets = test_df['OriginalTweet'].values\n",
    "\n",
    "# Create a DataFrame for analysis\n",
    "results_df = pd.DataFrame({\n",
    "    'Tweet': tweets,\n",
    "    'TrueLabel': y_test,\n",
    "    'PredictedLabel': y_pred_classes\n",
    "})\n",
    "\n",
    "# Map numerical labels to sentiment strings for readability\n",
    "sentiment_str = ['Extremely Negative', 'Negative', 'Neutral', 'Positive', 'Extremely Positive']\n",
    "results_df['TrueSentiment'] = results_df['TrueLabel'].map(lambda x: sentiment_str[x])\n",
    "results_df['PredictedSentiment'] = results_df['PredictedLabel'].map(lambda x: sentiment_str[x])\n",
    "\n",
    "# Filter Positive tweets classified as Negative\n",
    "positive_as_negative = results_df[\n",
    "    (results_df['TrueSentiment'].isin(['Positive', 'Extremely Positive'])) & \n",
    "    (results_df['PredictedSentiment'].isin(['Negative', 'Extremely Negative']))\n",
    "]\n",
    "\n",
    "# Filter Negative tweets classified as Positive\n",
    "negative_as_positive = results_df[\n",
    "    (results_df['TrueSentiment'].isin(['Negative', 'Extremely Negative'])) & \n",
    "    (results_df['PredictedSentiment'].isin(['Positive', 'Extremely Positive']))\n",
    "]"
   ]
  },
  {
   "cell_type": "code",
   "execution_count": 26,
   "metadata": {},
   "outputs": [
    {
     "name": "stdout",
     "output_type": "stream",
     "text": [
      "Positive Tweets Classified as Negative:\n",
      "Tweet: business international markets webinar show navigate todayas exporting challenges rising commodity prices due covid virus\n",
      "True Sentiment: Positive\n",
      "Predicted Sentiment: Negative\n",
      "------\n",
      "Tweet: booked ticket event part package holiday offered alternative refund travel provider cancelled due check abtas consumer qampa\n",
      "True Sentiment: Positive\n",
      "Predicted Sentiment: Negative\n",
      "------\n",
      "Tweet: ok nothing panic italy imposing biggest restrictions civilian population since ww supermarkets able provide food workers told stay home bussiness\n",
      "True Sentiment: Positive\n",
      "Predicted Sentiment: Extremely Negative\n",
      "------\n",
      "Tweet: important update ceo brian beaulieu broadened scope covid webinar expect oil prices drop stock market developments retail sales unfolding situations china italy learn register\n",
      "True Sentiment: Positive\n",
      "Predicted Sentiment: Negative\n",
      "------\n",
      "Tweet: cpg retail major retailers china like starbucks uniqlo nike temporarily shuttered store sellers amazons marketplace reportedly struggling bring goods country infects luxury spending ralph lauren\n",
      "True Sentiment: Positive\n",
      "Predicted Sentiment: Negative\n",
      "------\n",
      "Negative Tweets Classified as Positive:\n",
      "Tweet: providing customers free seats passengers forced choose paid seats free seats made available airport counter stopped itas discriminatory travellers rights\n",
      "True Sentiment: Extremely Negative\n",
      "Predicted Sentiment: Positive\n",
      "------\n",
      "Tweet: part soap work well sarscov coronavirus indeed viruses selfassembled nanoparticle weakest link lipid fatty bilayer two part thread soap viruses supramolecular chemistry\n",
      "True Sentiment: Negative\n",
      "Predicted Sentiment: Positive\n",
      "------\n",
      "Tweet: ignore online offers currently vaccines pills potions lotions lozenges prescription overthecounter products available treat cure disease covid online stores tips\n",
      "True Sentiment: Negative\n",
      "Predicted Sentiment: Positive\n",
      "------\n",
      "Tweet: self indulging thoughts food medicine essential household goods stock piling like people universal credit stock piling ffs\n",
      "True Sentiment: Negative\n",
      "Predicted Sentiment: Positive\n",
      "------\n",
      "Tweet: stay vigilant stay safe adapt covid know office answer questions scams sick time fraud consumer hotline health care hotline fair labor hotline\n",
      "True Sentiment: Negative\n",
      "Predicted Sentiment: Positive\n",
      "------\n"
     ]
    }
   ],
   "source": [
    "# Display Positive tweets classified as Negative\n",
    "print(\"Positive Tweets Classified as Negative:\")\n",
    "for i, row in positive_as_negative.head(5).iterrows():\n",
    "    print(f\"Tweet: {row['Tweet']}\")\n",
    "    print(f\"True Sentiment: {row['TrueSentiment']}\")\n",
    "    print(f\"Predicted Sentiment: {row['PredictedSentiment']}\")\n",
    "    print(\"------\")\n",
    "\n",
    "# Display Negative tweets classified as Positive\n",
    "print(\"Negative Tweets Classified as Positive:\")\n",
    "for i, row in negative_as_positive.head(5).iterrows():\n",
    "    print(f\"Tweet: {row['Tweet']}\")\n",
    "    print(f\"True Sentiment: {row['TrueSentiment']}\")\n",
    "    print(f\"Predicted Sentiment: {row['PredictedSentiment']}\")\n",
    "    print(\"------\")"
   ]
  },
  {
   "cell_type": "code",
   "execution_count": null,
   "metadata": {},
   "outputs": [],
   "source": []
  }
 ],
 "metadata": {
  "kaggle": {
   "accelerator": "none",
   "dataSources": [
    {
     "datasetId": 863934,
     "sourceId": 1472453,
     "sourceType": "datasetVersion"
    }
   ],
   "dockerImageVersionId": 30839,
   "isGpuEnabled": false,
   "isInternetEnabled": true,
   "language": "python",
   "sourceType": "notebook"
  },
  "kernelspec": {
   "display_name": "Python 3 (ipykernel)",
   "language": "python",
   "name": "python3"
  },
  "language_info": {
   "codemirror_mode": {
    "name": "ipython",
    "version": 3
   },
   "file_extension": ".py",
   "mimetype": "text/x-python",
   "name": "python",
   "nbconvert_exporter": "python",
   "pygments_lexer": "ipython3",
   "version": "3.9.13"
  }
 },
 "nbformat": 4,
 "nbformat_minor": 4
}
